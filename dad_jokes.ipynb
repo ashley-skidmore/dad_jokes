{
 "cells": [
  {
   "cell_type": "code",
   "execution_count": 1,
   "id": "1a9b36d7",
   "metadata": {},
   "outputs": [],
   "source": [
    "import pandas as pd\n",
    "import requests"
   ]
  },
  {
   "cell_type": "code",
   "execution_count": 9,
   "id": "2a2e2b4e",
   "metadata": {},
   "outputs": [
    {
     "name": "stdout",
     "output_type": "stream",
     "text": [
      "Success! Here's your dad joke!\n",
      "What did the big flower say to the littler flower? Hi, bud!\n"
     ]
    }
   ],
   "source": [
    "url = \"https://icanhazdadjoke.com/\"\n",
    "headers = {\"Accept\": \"application/json\"}  # required to get JSON response\n",
    "\n",
    "response = requests.get(url, headers=headers)\n",
    "\n",
    "if response.status_code == 200: #what to do if the get request was successful\n",
    "    data = response.json() #converts the response into JSON format and stores it in the variable called data\n",
    "    print(\"Success! Here's your dad joke!\") #let's the user know the request was successful\n",
    "    print(data[\"joke\"]) #displays the joke part of the JSON data (the value for the joke key)\n",
    "else: #what to do if the get response was not successful\n",
    "    print(f\"Error: {response.status_code}\") #prints the error code for the user\n",
    "\n"
   ]
  }
 ],
 "metadata": {
  "kernelspec": {
   "display_name": "Python 3",
   "language": "python",
   "name": "python3"
  },
  "language_info": {
   "codemirror_mode": {
    "name": "ipython",
    "version": 3
   },
   "file_extension": ".py",
   "mimetype": "text/x-python",
   "name": "python",
   "nbconvert_exporter": "python",
   "pygments_lexer": "ipython3",
   "version": "3.13.3"
  }
 },
 "nbformat": 4,
 "nbformat_minor": 5
}
